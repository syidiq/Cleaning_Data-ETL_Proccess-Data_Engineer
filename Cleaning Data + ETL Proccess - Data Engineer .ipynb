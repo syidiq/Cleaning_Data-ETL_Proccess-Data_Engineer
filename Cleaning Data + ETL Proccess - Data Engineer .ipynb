{
 "cells": [
  {
   "cell_type": "raw",
   "metadata": {},
   "source": [
    "# Cleaning Data & ETL Proccess - Data Engineer "
   ]
  },
  {
   "cell_type": "markdown",
   "metadata": {},
   "source": [
    "## Pengantar\n",
    "Dimasa pandemi seperti ini, kompetisi coding seperti Competitive Programming maupun Hackathon banyak diselenggarakan karena sangat memungkinkan untuk dilakukan secara online.\n",
    "\n",
    "Hackathon merupakan kompetisi membuat perangkat lunak (software) yang dilaksanakan secara marathon yang biasanya diikuti secara tim. Umumnya, peserta hackathon diminta untuk mengembangkan platform (mobile, web, desktop, dll.) dalam kurun waktu tertentu untuk menyelesaikan permasalahan yang sudah ditetapkan / didefinisikan oleh penyelenggara ataupun berdasarkan tema yang dipilih oleh tim tersebut.\n",
    "\n",
    "Untuk bisa mengikuti hackathon dari suatu instansi, calon peserta diwajibkan untuk mendaftarkan diri mereka pada situs/form tertentu dengan memasukkan beberapa informasi yang diminta oleh penyelenggara tersebut.\n",
    "\n",
    "Pada proyek kali ini, Anda diminta untuk mengolah data pendaftar hacktahon yang diselenggarkan oleh DQLab bernama DQThon. Dataset ini terdiri dari 5000 baris data (5000 pendaftar) dengan format CSV (Comma-separated values) dan memiliki beberapa kolom diantaranya:\n",
    "\n",
    "* participant_id: ID dari peserta/partisipan hackathon. Kolom ini bersifat unique sehingga antar peserta pasti memiliki ID yang berbeda\n",
    "* first_name: nama depan peserta\n",
    "* last_name: nama belakang peserta\n",
    "* birth_date: tanggal lahir peserta\n",
    "* address: alamat tempat tinggal peserta\n",
    "* phone_number: nomor hp/telfon peserta\n",
    "* country: negara asal peserta\n",
    "* institute: institusi peserta saat ini, bisa berupa nama perusahaan maupun nama universitas\n",
    "* occupation: pekerjaan peserta saat ini\n",
    "* register_time: waktu peserta melakukan pendaftaran hackathon dalam second\n",
    "\n",
    "Namun pada proyek ini nantinya Anda diminta untuk menghasilkan beberapa kolom dengan memanfaatkan kolom-kolom yang ada, sehingga akhir dari proyek ini berupa hasil transformasi data dengan beberapa kolom baru selain dari 10 kolom diatas Sebagai pemanasan dalam proyek ini, Anda dipersilakan untuk membuka isi dataset nya dan melihat values nya. Jika sudah siap dengan perjalanan di proyek ini, silakan klik Lanjut"
   ]
  },
  {
   "cell_type": "markdown",
   "metadata": {},
   "source": [
    "## Extract, Transform, Load\n",
    "Extract, Transform dan Load (ETL) merupakan kumpulan proses untuk \"memindahkan\" data dari satu tempat ke tempat lain.\n",
    "Tempat yang dimaksud adalah dari sumber data (bisa berupa database aplikasi, file, logs, database dari 3rd party, dan lainnya)\n",
    "ke data warehouse. Apa itu data warehouse? Singkatnya, data warehouse merupakan database yang berisi data-data (tabeltabel) yang sudah siap untuk dilakukan analisis oleh Data Analyst maupun Data Scientist. Lebih lengkapnya bisa dilihat di:\n",
    "https://en.wikipedia.org/wiki/Data_warehouse. Pada modul ini kita akan mempelajari masing-masing dari proses tersebut."
   ]
  },
  {
   "cell_type": "markdown",
   "metadata": {},
   "source": [
    "## Extract\n",
    "Extract merupakan proses meng-ekstraksi data dari sumber, sumber data ini bisa berupa relational data (SQL) atau tabel, nonrelational (NoSQL) maupun yang lainnya. Tugas Anda adalah baca terlebih dahulu dataset ini sebagai CSV agar nantinya bisa\n",
    "diolah, file tersebut bisa diakses di path dqthon-participants.csv ."
   ]
  },
  {
   "cell_type": "code",
   "execution_count": 5,
   "metadata": {},
   "outputs": [
    {
     "name": "stdout",
     "output_type": "stream",
     "text": [
      "                          participant_id first_name    last_name   birth_date  \\\n",
      "0   bd9b6f88-b84f-4c4d-90f8-b67fe2f1a29a      Citra   Nurdiyanti  05 Feb 1991   \n",
      "1   7dfe3391-6f40-47b6-b4db-0c76ebaf5fc3       Aris     Setiawan  11 Jan 1993   \n",
      "2   19582d7f-b824-4fe5-a517-d5bf573fc768   Cornelia    Handayani  31 Jul 1993   \n",
      "3   aeb6d817-25f3-4867-8a74-8d92e0a0f633      Soleh       Rajasa  04 Nov 1991   \n",
      "4   1fdabdd9-5444-4c97-87b2-fe8833ad0d27       Vivi       Astuti  22 Jan 2003   \n",
      "5   f1e8749d-6dec-4ede-be25-efb31ce80f99  Bahuraksa   Mangunsong  13 Nov 1997   \n",
      "6   707219fa-cb0b-467c-ad32-e99c61603020      Tiara      Maryati  10 Mar 1994   \n",
      "7   bc4e9cc3-f49b-40a2-905c-3e9dcf3af958      Dimaz      Gunarto  16 Feb 2000   \n",
      "8   7ca0a2e8-bab0-42a3-b6aa-ef4df35c7800       Zizi    Puspasari  11 Apr 2002   \n",
      "9   7db879a6-eae5-4cf3-87da-c452df8e99c1      Cecep     Haryanto  15 Jan 1994   \n",
      "10  ae29b7cb-837c-4f78-957a-f8f7dcd3d6f0      Vanya     Yuliarti  09 Apr 1998   \n",
      "11  f6abbf84-2979-4f07-ac18-f4028bf009ac      Yahya      Damanik  30 Jun 1993   \n",
      "12  ff1228c9-cbb8-4c85-abd3-2200ee871599    Natalia      Hartati  03 Oct 1992   \n",
      "13  511d94e6-ee70-4afe-8516-4df0d7f74698      Karja    Sihombing  14 Feb 1998   \n",
      "14  5bb00c77-c91d-47bc-9dbc-996efcd5b76e      Maria        Utami  30 Oct 2002   \n",
      "15  b11b5a7b-654f-4a6a-84be-6c9bfc116c94      Kalim     Simbolon  19 May 1995   \n",
      "16  8f5cc17e-71b5-47a4-b70e-fae7d7a0c46f      Kezia      Wahyuni  20 Nov 1992   \n",
      "17  407116ef-fb38-432f-b62e-d955d9ca1712     Saiful     Dongoran  01 Sep 1992   \n",
      "18  17dd1666-818e-4681-bedd-b9f016096c74        Ani        Utami  06 Jan 1997   \n",
      "19  88bede2b-2d5a-45c6-8ade-c1a3289f2728       Heru   Anggriawan  14 Apr 1992   \n",
      "20  3810d4c7-9c7f-4f46-95e6-dd81ff5f9356       Qori      Lestari  08 Oct 1998   \n",
      "21  540a4551-222c-4508-be21-919bc920f667     Caraka      Damanik  28 Jul 1991   \n",
      "22  37f4aed3-5e39-4620-ac1e-6b82f3ea1a8e  Anastasia    Oktaviani  21 Aug 1996   \n",
      "23  1abb5ace-e2f8-4ac3-90d5-cdd70838ca50     Kusuma     Pradipta  04 Jan 1991   \n",
      "24  80c5fc2b-c315-42d0-9a6f-101314baff32       Rina  Pudjiastuti  04 Dec 2001   \n",
      "25  83d9dbf8-f13d-4171-989a-8995ec10468e    Cengkal       Habibi  12 Aug 1991   \n",
      "26  f8d019ac-5beb-4855-be29-ecc5c39d4d7f      Wulan       Melani  22 Aug 2000   \n",
      "27  f26e2057-3968-423f-a948-575e577f8c0d    Daryani      Prayoga  24 Apr 2000   \n",
      "28  c96ad235-14db-41ec-ad57-11e8898df1da    Jamalia       Namaga  22 Jan 1995   \n",
      "29  0effee30-7b9a-42b4-bc99-0bd9b10324b2  Bahuraksa     Wibisono  06 Apr 2001   \n",
      "30  71505ac6-794d-4946-953f-7b12048265ba   Zulaikha     Nasyidah  26 Jul 2000   \n",
      "31  6e3c03ca-bedd-415d-9999-ebf5881d2f01     Bancar       Irawan  18 Dec 1999   \n",
      "32  af37c148-9f5d-4d4e-b456-252392560602      Cinta    Wulandari  15 Feb 2000   \n",
      "33  99d5d514-ca2e-4d17-914c-160b71e9a356      Nrima      Siregar  08 Aug 1990   \n",
      "34  a9630a68-4cf5-475b-a4ec-3a9ee93c57a7       Febi    Oktaviani  09 Feb 1991   \n",
      "35  c0375575-613f-45df-b3da-49b9898477fd      Dimaz       Kusumo  03 Aug 1997   \n",
      "36  991719c9-8b2c-43b1-a7a5-5dc2d4af57cc      Yessi    Mandasari  04 Jun 1993   \n",
      "37  6ab3f165-e7d7-4ba7-9f30-436a480dcc3f  Bahuwarna      Gunawan  03 May 1997   \n",
      "38  4dcc4e9c-2ec2-44be-a213-a25afca02fd8      Clara   Laksmiwati  18 Jan 2001   \n",
      "39  07cf47d3-4330-45ae-ac3a-294397adaabb       Luis        Tamba  16 Dec 1994   \n",
      "40  9b1fadef-1deb-4afb-afde-9e789a0c2382      Gilda    Mandasari  17 Aug 2002   \n",
      "41  661bcc0c-d900-48b8-bb79-f8c6fe2cbfb4   Balapati      Prabowo  20 Apr 1992   \n",
      "42  c9e36f08-c498-4c6b-8191-b5226704544d  Gabriella       Farida  18 Oct 1998   \n",
      "43  4d7035e8-d8ed-483b-937a-ab31a05d91cc    Cahyono     Sihotang  14 Feb 1995   \n",
      "44  3b2bf1c2-c078-45d5-9f23-60fdd7ba4057     Azalea        Utami  26 Feb 1995   \n",
      "45  dbe26e41-fc49-4e0a-ba49-e0a0852f778e    Daliman      Jailani  06 Feb 1995   \n",
      "46  82819e0f-35c2-4327-a463-fae229a9a43f     Latika       Namaga  25 Feb 2001   \n",
      "47  9bdcd8ce-b035-4d1c-8519-af82eaf17a75     Radika      Gunawan  12 Nov 1998   \n",
      "48  547f9485-c69a-4db6-9ef0-2b0f773798ce        Ami     Suryatmi  09 Mar 1996   \n",
      "49  2459ff35-0a2f-4873-9cc6-1327240d3333     Lembah      Jailani  24 Apr 1994   \n",
      "50  8185b5ca-cbda-4fe2-9c0d-e5fc90dd6c93      Nurul   Laksmiwati  13 Nov 1994   \n",
      "51  2c309aeb-f51a-4be3-a3b7-349d6a9510c8      Warsa        Uwais  11 May 1995   \n",
      "52  eb45b7f6-3d6e-481c-9dd2-f74b723f6628      Nilam   Nurdiyanti  23 Nov 1991   \n",
      "53  21f5bc56-f21d-45f1-a9c5-535cf6eb677d     Lutfan      Jailani  23 Feb 2002   \n",
      "54  81326c33-51fd-47f0-b3fc-6f895fa68a0e      Winda    Wulandari  17 Jun 1992   \n",
      "55  5f084245-58cb-4360-8cff-112f06f7214e      Mitra     Latupono  27 Apr 2000   \n",
      "56  fc6e142a-3f66-4330-9975-8c1dc7f9bb03      Indah    Rahmawati  06 Mar 1996   \n",
      "57  4521ff9f-4aec-401b-84aa-a4e6fc6549a4      Irsad     Najmudin  14 Feb 2003   \n",
      "58  1c91596e-427c-44a7-b7d0-974f44e18381      Carla     Nasyidah  22 Aug 1994   \n",
      "59  5d682e84-bcb5-43e9-8ce0-615364f5376a    Darmana      Maryadi  09 Feb 2002   \n",
      "\n",
      "                                              address         phone_number  \\\n",
      "0          Gg. Monginsidi No. 08\\r\\nMedan, Aceh 80734      (0151) 081 2706   \n",
      "1    Gg. Rajawali Timur No. 7\\r\\nPrabumulih, MA 09434   +62 (036) 461 7027   \n",
      "2            Jalan Kebonjati No. 0\\r\\nAmbon, SS 57739         089 833 6695   \n",
      "3   Jl. Yos Sudarso No. 109\\r\\nLubuklinggau, SR 76156   +62 (418) 329-4756   \n",
      "4   Jalan Gardujati No. 53\\r\\nKediri, Sulawesi Ten...           0812511835   \n",
      "5      Jl. Pacuan Kuda No. 58\\r\\nDenpasar, Aceh 00880    +62 (11) 369-7082   \n",
      "6         Gg. Cihampelas No. 4\\r\\nSamarinda, KT 48108      (0244) 430 7220   \n",
      "7          Gg. Sukabumi No. 7\\r\\nParepare, Bali 64255   +62 (056) 931-9059   \n",
      "8                  Gg. Peta No. 01\\r\\nMedan, BE 89056    +62 (11) 826-1289   \n",
      "9   Jalan Cempaka No. 8\\r\\nBitung, Kalimantan Bara...    +62 (86) 156 1327   \n",
      "10  Gang Laswi No. 34\\r\\nKediri, Sulawesi Barat 18717   +62 (004) 561 6831   \n",
      "11  Gang HOS. Cokroaminoto No. 74\\r\\nBau-Bau, MA 4...     +62-304-075-1010   \n",
      "12      Jl. Sukajadi No. 387\\r\\nGorontalo, Aceh 40645     +62-766-738-4901   \n",
      "13  Jl. Rajawali Timur No. 0\\r\\nBatam, Kalimantan ...      +62-57-926-3059   \n",
      "14     Gg. Astana Anyar No. 06\\r\\nPagaralam, KT 46071   +62 (447) 608 1087   \n",
      "15  Jalan Cikapayang No. 703\\r\\nTidore Kepulauan, ...       (093) 063-0588   \n",
      "16  Jl. S. Parman No. 8\\r\\nKota Administrasi Jakar...   +62 (857) 263-5384   \n",
      "17            Jl. Cempaka No. 83\\r\\nTarakan, KU 31450   +62 (631) 363 8240   \n",
      "18          Gg. Rumah Sakit No. 49\\r\\nDepok, AC 30846     +62-783-529-5810   \n",
      "19  Jl. Tebet Barat Dalam No. 003\\r\\nPalangkaraya,...         083 504 5393   \n",
      "20  Gg. Ir. H. Djuanda No. 36\\r\\nSolok, Sulawesi S...    +62-0748-723-1906   \n",
      "21            Jalan Sukabumi No. 26\\r\\nBatu, SG 15858           0853316705   \n",
      "22  Jl. Kendalsari No. 21\\r\\nBau-Bau, Gorontalo 02942    +62 (44) 781 5744   \n",
      "23  Gang Jamika No. 43\\r\\nSorong, Sulawesi Barat 0...    +62 (84) 231-8406   \n",
      "24  Gang W.R. Supratman No. 78\\r\\nSorong, Sulawesi...     +62-060-374-6863   \n",
      "25  Gg. Stasiun Wonokromo No. 80\\r\\nBalikpapan, ST...  +62 (0748) 975-6355   \n",
      "26        Jl. Suniaraja No. 8\\r\\nKotamobagu, ST 86033     +62-535-749-3999   \n",
      "27       Gang Cihampelas No. 727\\r\\nCirebon, SU 28439   +62 (071) 659-1003   \n",
      "28     Jl. Dr. Djunjunan No. 457\\r\\nCilegon, RI 38972  +62 (0950) 721 1608   \n",
      "29        Jalan Kebonjati No. 057\\r\\nBatu, Aceh 04577      (0936) 648 4361   \n",
      "30   Gg. Gegerkalong Hilir No. 088\\r\\nTegal, AC 27409     +62-358-365-1184   \n",
      "31  Gang Pasteur No. 70\\r\\nPalopo, Sulawesi Tengah...       (067) 180 3600   \n",
      "32  Jalan Rawamangun No. 10\\r\\nTomohon, Bengkulu 1...     +62-926-987-4190   \n",
      "33  Gang M.T Haryono No. 7\\r\\nSorong, Jawa Timur 3...    +62 (28) 632 0800   \n",
      "34       Gg. Asia Afrika No. 42\\r\\nSalatiga, AC 64938         082 049 1763   \n",
      "35  Gang Bangka Raya No. 27\\r\\nMedan, Kalimantan T...         086 538 6323   \n",
      "36  Jl. W.R. Supratman No. 6\\r\\nProbolinggo, Bali ...    +62-0437-717-3727   \n",
      "37      Gg. Pasir Koja No. 13\\r\\nBanjarbaru, BE 74883   +62 (677) 846 9301   \n",
      "38  Gang Ahmad Dahlan No. 5\\r\\nKota Administrasi J...  +62 (0585) 457-5819   \n",
      "39  Jalan Yos Sudarso No. 9\\r\\nBengkulu, Maluku 53015       (021) 345-8177   \n",
      "40     Gg. Ahmad Yani No. 225\\r\\nKotamobagu, BE 82579      +62-33-075-6378   \n",
      "41  Gg. Monginsidi No. 213\\r\\nYogyakarta, Sulawesi...         083 854 6485   \n",
      "42  Gg. Gegerkalong Hilir No. 44\\r\\nPrabumulih, NB...      (0805) 702 7885   \n",
      "43         Jalan Lembong No. 4\\r\\nPontianak, NB 26914     +62-047-676-1389   \n",
      "44            Jl. Moch. Toha No. 5\\r\\nTegal, PA 45127      (0436) 596 3691   \n",
      "45  Jalan Siliwangi No. 28\\r\\nBogor, DI Yogyakarta...       (071) 551 8458   \n",
      "46           Gg. Pacuan Kuda No. 8\\r\\nTegal, NT 07260      (0076) 321 6834   \n",
      "47          Gg. Peta No. 2\\r\\nBanjarbaru, Papua 70077   +62 (000) 739-1918   \n",
      "48         Jl. Cikutra Timur No. 5\\r\\nTegal, NT 86479     +62-012-762-3967   \n",
      "49         Jl. Cikutra Timur No. 9\\r\\nDumai, JT 69289   +62 (219) 550 7430   \n",
      "50  Jalan Kendalsari No. 6\\r\\nTangerang Selatan, S...      +62-49-762-3182   \n",
      "51        Jl. Cempaka No. 696\\r\\nBanjarbaru, KR 90732       (056) 004-9835   \n",
      "52    Jl. R.E Martadinata No. 831\\r\\nLangsa, SB 43306       (080) 127-2108   \n",
      "53  Jalan Otto Iskandardinata No. 044\\r\\nBlitar, J...      +62-07-009-8057   \n",
      "54       Gg. Yos Sudarso No. 321\\r\\nTernate, GO 25418  +62 (0469) 420-8399   \n",
      "55          Jl. Monginsidi No. 5\\r\\nCirebon, BB 50268   +62 (050) 795-8398   \n",
      "56            Gang Joyoboyo No. 73\\r\\nBogor, BT 57434  +62 (0443) 963 0055   \n",
      "57  Jalan PHH. Mustofa No. 0\\r\\nTanjungbalai, MU 9...  +62 (0408) 216-7689   \n",
      "58  Jl. H.J Maemunah No. 955\\r\\nManado, Kepulauan ...  +62 (0751) 380 3352   \n",
      "59  Jalan Erlangga No. 76\\r\\nBontang, Sulawesi Ten...   +62 (066) 414 8791   \n",
      "\n",
      "                      country                               institute  \\\n",
      "0                     Georgia                    UD Prakasa Mandasari   \n",
      "1                 Korea Utara                  Universitas Diponegoro   \n",
      "2                      Komoro                UD Hardiansyah Puspasari   \n",
      "3                     Eritrea               Perum Tampubolon Yuliarti   \n",
      "4                    Aljazair                  PT Hardiansyah Rahimah   \n",
      "5                      Zambia                   CV Mardhiyah Haryanto   \n",
      "6                       Libya                       UD Irawan Wahyuni   \n",
      "7   Republik Demokratik Kongo                         Perum Purnawati   \n",
      "8                      Gambia        Universitas Bhayangkara Surabaya   \n",
      "9                       Palau             PD Pudjiastuti Palastri Tbk   \n",
      "10                  Finlandia                   Universitas Janabadra   \n",
      "11                       Mali       PD Andriani Gunarto (Persero) Tbk   \n",
      "12                      Ghana      Universitas Katolik Widya Manadala   \n",
      "13                 Uzbekistan  Universitas Muhammadiyah Sumatra Utara   \n",
      "14                   Botswana             Universitas Negeri Semarang   \n",
      "15                     Gambia                 PD Nugroho Latupono Tbk   \n",
      "16                       Iran                         UD Haryanti Tbk   \n",
      "17              Sudan Selatan                  Universitas Bung Hatta   \n",
      "18                  Indonesia       Universitas Muhammadiyah Makassar   \n",
      "19                    Georgia            Universitas Advent Indonesia   \n",
      "20                  Venezuela         UD Namaga Rahimah (Persero) Tbk   \n",
      "21                  Argentina                 STMIK AMIKOM Yogyakarta   \n",
      "22                     Brunei                     UD Prasetya Saragih   \n",
      "23                   Norwegia                       PD Sirait Prakasa   \n",
      "24                   Islandia          Universitas Komputer Indonesia   \n",
      "25                      Ghana               Universitas Proklamasi 45   \n",
      "26                    Rumania                 PT Waluyo (Persero) Tbk   \n",
      "27                     Malawi                          CV Saputra Tbk   \n",
      "28                      Haiti    Universitas 17 Agustus 1945 Semarang   \n",
      "29                 Kosta Rika                   Universitas Indonesia   \n",
      "30                      Samoa        Universitas Jenderal Achmad Yani   \n",
      "31                  Finlandia                       Perum Kuswoyo Tbk   \n",
      "32                    Rumania                Politeknik Negeri Padang   \n",
      "33                    Lesotho           Universitas Kristen Maranatha   \n",
      "34                   Djibouti               Perum Simanjuntak Halimah   \n",
      "35                     Siprus                   UD Rahayu Riyanti Tbk   \n",
      "36                      Chili                              UD Uyainah   \n",
      "37                    Lebanon        UD Pratiwi Siregar (Persero) Tbk   \n",
      "38                    Belarus           Bogor Agricultural University   \n",
      "39        Trinidad dan Tobago                           PD Napitupulu   \n",
      "40                      India                  Perum Dongoran Nuraini   \n",
      "41  Republik Demokratik Kongo            Universitas Muslim Indonesia   \n",
      "42                    Liberia              Universitas Tidar Magelang   \n",
      "43                    Belarus               UD Simanjuntak Nurdiyanti   \n",
      "44                 Kosta Rika                     Perum Utama Sitorus   \n",
      "45                     Yunani   Perum Yulianti Najmudin (Persero) Tbk   \n",
      "46                  Guatemala                Universitas Nusa Cendana   \n",
      "47                     Brunei             Perum Pranowo (Persero) Tbk   \n",
      "48                     Uganda         Universitas Bunda Mulia Jakarta   \n",
      "49        Federasi Mikronesia                Politeknik Negeri Padang   \n",
      "50              Guinea-Bissau     Perum Dabukke Gunawan (Persero) Tbk   \n",
      "51                  Finlandia              PD Maheswara (Persero) Tbk   \n",
      "52              Selandia Baru                   PD Kusmawati Najmudin   \n",
      "53                    Grenada                           CV Laksmiwati   \n",
      "54                Timor Leste                          PT Gunarto Tbk   \n",
      "55                   Hongaria     Institut Teknologi Sepuluh Nopember   \n",
      "56                   Norwegia                  CV Safitri Hastuti Tbk   \n",
      "57                      Ghana      Universitas Katolik Widya Manadala   \n",
      "58                     Gambia                CV Permadi (Persero) Tbk   \n",
      "59                  Singapura                Perum Laksita Kuswandari   \n",
      "\n",
      "                        occupation  register_time  \n",
      "0   Business Intelligence Engineer   1.620000e+09  \n",
      "1                Frontend Engineer   1.620000e+09  \n",
      "2                 Business Analyst   1.620000e+09  \n",
      "3                  DevOps Engineer   1.620000e+09  \n",
      "4                     Data Analyst   1.620000e+09  \n",
      "5                 Business Analyst   1.620000e+09  \n",
      "6                  Product Analyst   1.620000e+09  \n",
      "7                   Data Scientist   1.620000e+09  \n",
      "8                     Data Analyst   1.620000e+09  \n",
      "9               Fullstack Engineer   1.620000e+09  \n",
      "10                Flutter Engineer   1.620000e+09  \n",
      "11                  Data Scientist   1.620000e+09  \n",
      "12                  Data Scientist   1.620000e+09  \n",
      "13                 DevOps Engineer   1.620000e+09  \n",
      "14  Business Intelligence Engineer   1.620000e+09  \n",
      "15                 Product Analyst   1.620000e+09  \n",
      "16  Business Intelligence Engineer   1.620000e+09  \n",
      "17                   Data Engineer   1.620000e+09  \n",
      "18                  Data Scientist   1.620000e+09  \n",
      "19                 Product Manager   1.620000e+09  \n",
      "20               Frontend Engineer   1.620000e+09  \n",
      "21                 Mobile Engineer   1.620000e+09  \n",
      "22                 DevOps Engineer   1.620000e+09  \n",
      "23      Quality Assurance Engineer   1.620000e+09  \n",
      "24                Flutter Engineer   1.620000e+09  \n",
      "25      Quality Assurance Engineer   1.620000e+09  \n",
      "26                    Data Analyst   1.620000e+09  \n",
      "27      Quality Assurance Engineer   1.620000e+09  \n",
      "28               Frontend Engineer   1.620000e+09  \n",
      "29               Frontend Engineer   1.620000e+09  \n",
      "30      Quality Assurance Engineer   1.620000e+09  \n",
      "31                 DevOps Engineer   1.620000e+09  \n",
      "32                 DevOps Engineer   1.620000e+09  \n",
      "33                   Data Engineer   1.620000e+09  \n",
      "34                 Product Analyst   1.620000e+09  \n",
      "35              Fullstack Engineer   1.620000e+09  \n",
      "36              Fullstack Engineer   1.620000e+09  \n",
      "37                Backend Engineer   1.620000e+09  \n",
      "38                  Data Scientist   1.620000e+09  \n",
      "39                Business Analyst   1.620000e+09  \n",
      "40              Fullstack Engineer   1.620000e+09  \n",
      "41                 Product Analyst   1.620000e+09  \n",
      "42               Frontend Engineer   1.620000e+09  \n",
      "43               Frontend Engineer   1.620000e+09  \n",
      "44                 DevOps Engineer   1.620000e+09  \n",
      "45                Flutter Engineer   1.620000e+09  \n",
      "46                  Data Scientist   1.620000e+09  \n",
      "47                  Data Scientist   1.620000e+09  \n",
      "48                 Product Analyst   1.620000e+09  \n",
      "49                 Product Analyst   1.620000e+09  \n",
      "50               Frontend Engineer   1.620000e+09  \n",
      "51               Frontend Engineer   1.620000e+09  \n",
      "52               Frontend Engineer   1.620000e+09  \n",
      "53                 DevOps Engineer   1.620000e+09  \n",
      "54                Business Analyst   1.620000e+09  \n",
      "55  Business Intelligence Engineer   1.620000e+09  \n",
      "56                   Data Engineer   1.620000e+09  \n",
      "57              Fullstack Engineer   1.620000e+09  \n",
      "58              Fullstack Engineer   1.620000e+09  \n",
      "59                 DevOps Engineer   1.620000e+09  \n"
     ]
    },
    {
     "data": {
      "text/plain": [
       "pandas.core.frame.DataFrame"
      ]
     },
     "execution_count": 5,
     "metadata": {},
     "output_type": "execute_result"
    }
   ],
   "source": [
    "import pandas as pd\n",
    "df_participant = pd.read_csv(\"C:/Users/ACER 4736/Documents/d1.csv\")\n",
    "print(df_participant)\n",
    "type(df_participant)"
   ]
  },
  {
   "cell_type": "markdown",
   "metadata": {},
   "source": [
    "## Transform\n",
    "Transform merupakan proses melakukan transformasi data, atau perubahan terhadap data. Umumnya seperti:\n",
    "\n",
    "1. Merubah nilai dari suatu kolom ke nilai baru\n",
    "2. Menciptakan kolom baru dengan memanfaatkan kolom lain\n",
    "3. Transpose baris menjadi kolom (atau sebaliknya)\n",
    "4. Merubah format data ke bentuk yang lebih standar (contohnya kolom date, maupun datetime yang biasanya memiliki nilai yang tidak standar maupun nomor HP yang biasanya memiliki nilai yang tidak sesuai format standarnya). Dan lain-lain nya."
   ]
  },
  {
   "cell_type": "markdown",
   "metadata": {},
   "source": [
    "## Transform Bagian I - Kode Pos\n",
    "Ada permintaan datang dari tim Logistik bahwa mereka membutuhkan kode pos dari peserta agar pengiriman piala lebih\n",
    "mudah dan cepat sampai. Maka dari itu buatlah kolom baru bernama postal_code yang memuat informasi mengenai kode pos\n",
    "yang diambil dari alamat peserta (kolom address). Diketahui bahwa kode pos berada di paling akhir dari alamat tersebut.\n",
    "\n",
    "Note:\n",
    "Jika regex yang dimasukkan tidak bisa menangkap pattern dari value kolom address maka akan menghasilkan NaN"
   ]
  },
  {
   "cell_type": "code",
   "execution_count": 120,
   "metadata": {},
   "outputs": [
    {
     "data": {
      "text/plain": [
       "0    80734\n",
       "1    09434\n",
       "2    57739\n",
       "3    76156\n",
       "4    70074\n",
       "Name: postal_code, dtype: object"
      ]
     },
     "execution_count": 120,
     "metadata": {},
     "output_type": "execute_result"
    }
   ],
   "source": [
    "df_participant['postal_code'] = df_participant['address'].str.extract(r'(\\d+)$') #Masukkan regex Anda didalam fungsi extract\n",
    "df_participant['postal_code'].head()"
   ]
  },
  {
   "cell_type": "code",
   "execution_count": 121,
   "metadata": {
    "scrolled": true
   },
   "outputs": [
    {
     "data": {
      "text/plain": [
       "0    80734\n",
       "1    09434\n",
       "2    57739\n",
       "3    76156\n",
       "4    70074\n",
       "Name: postal_code, dtype: object"
      ]
     },
     "execution_count": 121,
     "metadata": {},
     "output_type": "execute_result"
    }
   ],
   "source": [
    "df_participant['postal_code'] = df_participant['address'].str.extract(r'([0-9]+)$') #Masukkan regex Anda didalam fungsi extract\n",
    "df_participant['postal_code'].head()"
   ]
  },
  {
   "cell_type": "markdown",
   "metadata": {},
   "source": [
    "## Transform Bagian II - Kota\n",
    "Selain kode pos, mereka juga membutuhkan kota dari peserta. Untuk menyediakan informasi tersebut, buatlah kolom baru\n",
    "bernama city yang didapat dari kolom address. Diasumsikan bahwa kota merupakan sekumpulan karakter yang terdapat\n",
    "setelah nomor jalan diikuti dengan \\n (newline character) atau dalam bahasa lainnya yaitu enter."
   ]
  },
  {
   "cell_type": "code",
   "execution_count": null,
   "metadata": {
    "scrolled": true
   },
   "outputs": [],
   "source": [
    "df_participant['city'] = df_participant['address'].str.extract(r'\\n(.+),') #Masukkan regex Anda didalam fungsi extract\n",
    "df_participant['city'].head(20)"
   ]
  },
  {
   "cell_type": "code",
   "execution_count": 228,
   "metadata": {
    "scrolled": true
   },
   "outputs": [
    {
     "data": {
      "text/plain": [
       "0                               Medan\n",
       "1                          Prabumulih\n",
       "2                               Ambon\n",
       "3                        Lubuklinggau\n",
       "4                              Kediri\n",
       "5                            Denpasar\n",
       "6                           Samarinda\n",
       "7                            Parepare\n",
       "8                               Medan\n",
       "9                              Bitung\n",
       "10                             Kediri\n",
       "11                            Bau-Bau\n",
       "12                          Gorontalo\n",
       "13                              Batam\n",
       "14                          Pagaralam\n",
       "15                   Tidore Kepulauan\n",
       "16    Kota Administrasi Jakarta Barat\n",
       "17                            Tarakan\n",
       "18                              Depok\n",
       "19                       Palangkaraya\n",
       "Name: city, dtype: object"
      ]
     },
     "execution_count": 228,
     "metadata": {},
     "output_type": "execute_result"
    }
   ],
   "source": [
    "df_participant['city'] = df_participant['address'].str.extract(r'\\n(.*),') #Masukkan regex Anda didalam fungsi extract\n",
    "df_participant['city'].head(20)"
   ]
  },
  {
   "cell_type": "code",
   "execution_count": 3,
   "metadata": {},
   "outputs": [
    {
     "data": {
      "text/plain": [
       "0    NaN\n",
       "1    NaN\n",
       "2    NaN\n",
       "3    NaN\n",
       "4    NaN\n",
       "Name: city, dtype: object"
      ]
     },
     "execution_count": 3,
     "metadata": {},
     "output_type": "execute_result"
    }
   ],
   "source": [
    "df_participant['city'] = df_participant['address'].str.extract(r'(?:\\d+)\\n+(\\w+)') #Masukkan regex Anda didalam fungsi extract\n",
    "df_participant['city'].head()"
   ]
  },
  {
   "cell_type": "code",
   "execution_count": null,
   "metadata": {
    "scrolled": false
   },
   "outputs": [],
   "source": [
    "df_participant['city'] = df_participant['address'].str.extract(r'(.+),') #Masukkan regex Anda didalam fungsi extract\n",
    "df_participant['city'].head(20)"
   ]
  },
  {
   "cell_type": "markdown",
   "metadata": {},
   "source": [
    "## Transform Bagian III - Github\n",
    "Salah satu parameter untuk mengetahui proyek apa saja yang pernah dikerjakan oleh peserta yaitu dari git repository\n",
    "mereka. Pada kasus ini kita menggunakan profil github sebagai parameter nya. Tugas Anda yaitu membuat kolom baru\n",
    "bernama github_profile yang merupakan link profil github dari peserta. Diketahui bahwa profil github mereka merupakan\n",
    "gabungan dari first_name dan last_name yang sudah di-lowercase"
   ]
  },
  {
   "cell_type": "code",
   "execution_count": 123,
   "metadata": {},
   "outputs": [],
   "source": [
    "df_participant['github_profile'] = 'https://github.com/' + df_participant['first_name'].str.lower() + df_participant['last_name'].str.lower()"
   ]
  },
  {
   "cell_type": "code",
   "execution_count": 124,
   "metadata": {},
   "outputs": [
    {
     "name": "stdout",
     "output_type": "stream",
     "text": [
      "0      https://github.com/citranurdiyanti\n",
      "1         https://github.com/arissetiawan\n",
      "2    https://github.com/corneliahandayani\n",
      "3          https://github.com/solehrajasa\n",
      "4           https://github.com/viviastuti\n",
      "Name: github_profile, dtype: object\n"
     ]
    }
   ],
   "source": [
    "print(df_participant['github_profile'].head())"
   ]
  },
  {
   "cell_type": "markdown",
   "metadata": {},
   "source": [
    "## Transform Bagian IV - Nomor Handphone\n",
    "Jika kita lihat kembali, ternyata nomor handphone yang ada pada data csv kita memiliki format yang berbeda-beda. Maka dari itu, kita perlu untuk melakukan cleansing pada data nomor handphone agar memiliki format yang sama. Anda sebagai Data Engineer diberi privilege untuk menentukan format nomor handphone yang benar. Pada kasus ini mari kita samakan format nya dengan aturan:\n",
    "\n",
    "1. Jika awalan nomor HP berupa angka 62 atau +62 yang merupakan kode telepon Indonesia, maka diterjemahkan ke 0 2.\n",
    "2. Tidak ada tanda baca seperti kurung buka, kurung tutup, strip⟶ ()-\n",
    "3. Tidak ada spasi pada nomor HP Nama kolom untuk menyimpan hasil cleansing pada nomor HP yaitu cleaned_phone_number"
   ]
  },
  {
   "cell_type": "code",
   "execution_count": 132,
   "metadata": {
    "scrolled": true
   },
   "outputs": [
    {
     "name": "stdout",
     "output_type": "stream",
     "text": [
      "+62 (036) 461 7027\n"
     ]
    }
   ],
   "source": [
    "print(df_participant['phone_number'][1])"
   ]
  },
  {
   "cell_type": "code",
   "execution_count": 167,
   "metadata": {},
   "outputs": [
    {
     "name": "stdout",
     "output_type": "stream",
     "text": [
      "0    +62 (036) 461 7027\n",
      "1     62 (036) 461 7027\n",
      "2       +62(001)4617027\n",
      "Name: 0, dtype: object\n",
      "+62 (036) 461 7027\n",
      "0 (036) 461 7027\n"
     ]
    }
   ],
   "source": [
    "a=['+62 (036) 461 7027','62 (036) 461 7027','+62(001)4617027']\n",
    "c=pd.DataFrame(a)\n",
    "b=\"+62 (036) 461 7027\"\n",
    "print(c[0].astype(\"str\").replace(\"+62\",\"0\"))\n",
    "print(a[0])\n",
    "print(a[0].replace(\"+62\",\"0\"))"
   ]
  },
  {
   "cell_type": "code",
   "execution_count": null,
   "metadata": {},
   "outputs": [],
   "source": [
    "#Masukkan regex anda pada parameter pertama dari fungsi replace\n",
    "df_participant['cleaned_phone_number'] = df_participant['phone_number'].str.replace(r'(+?62)', '0')\n",
    "df_participant['cleaned_phone_number'] = df_participant['cleaned_phone_number'].str.replace(r'[()-]', '')\n",
    "df_participant['cleaned_phone_number'] = df_participant['cleaned_phone_number'].str.replace(r'(\\s)', '')"
   ]
  },
  {
   "cell_type": "code",
   "execution_count": null,
   "metadata": {},
   "outputs": [],
   "source": [
    "#Masukkan regex anda pada parameter pertama dari fungsi replace\n",
    "df_participant['cleaned_phone_number'] = df_participant['phone_number'].str.replace(r'(+?62)', '0')\n",
    "#df_participant['cleaned_phone_number'] = df_participant['cleaned_phone_number'].str.replace(r'[()-]', '')\n",
    "#df_participant['cleaned_phone_number'] = df_participant['cleaned_phone_number'].str.replace(r'(\\s)', '')\n",
    "print(df_participant['cleaned_phone_number'].head())"
   ]
  },
  {
   "cell_type": "code",
   "execution_count": 226,
   "metadata": {},
   "outputs": [
    {
     "name": "stdout",
     "output_type": "stream",
     "text": [
      "          phone_number cleaned_phone_number\n",
      "0      (0151) 081 2706          01510812706\n",
      "1   +62 (036) 461 7027          00364617027\n",
      "2         089 833 6695           0898336695\n",
      "3   +62 (418) 329-4756          04183294756\n",
      "4           0812511835           0812511835\n",
      "5    +62 (11) 369-7082           0113697082\n",
      "6      (0244) 430 7220          02444307220\n",
      "7   +62 (056) 931-9059          00569319059\n",
      "8    +62 (11) 826-1289           0118261289\n",
      "9    +62 (86) 156 1327           0861561327\n",
      "10  +62 (004) 561 6831          00045616831\n",
      "11    +62-304-075-1010          03040751010\n",
      "12    +62-766-738-4901          07667384901\n",
      "13     +62-57-926-3059           0579263059\n",
      "14  +62 (447) 608 1087          04476081087\n",
      "15      (093) 063-0588           0930630588\n",
      "16  +62 (857) 263-5384          08572635384\n",
      "17  +62 (631) 363 8240          06313638240\n",
      "18    +62-783-529-5810          07835295810\n",
      "19        083 504 5393           0835045393\n"
     ]
    }
   ],
   "source": [
    "#Masukkan regex anda pada parameter pertama dari fungsi replace\n",
    "df_participant['cleaned_phone_number'] = df_participant['phone_number'].str.replace(r'[+]?62', '0')\n",
    "df_participant['cleaned_phone_number'] = df_participant['cleaned_phone_number'].str.replace(r'[()-]', '')\n",
    "df_participant['cleaned_phone_number'] = df_participant['cleaned_phone_number'].str.replace(r'(\\s)', '')\n",
    "print(df_participant[['phone_number','cleaned_phone_number']].head(20))"
   ]
  },
  {
   "cell_type": "code",
   "execution_count": 13,
   "metadata": {},
   "outputs": [
    {
     "name": "stdout",
     "output_type": "stream",
     "text": [
      "          phone_number cleaned_phone_number\n",
      "0      (0151) 081 2706          01510812706\n",
      "1   +62 (036) 461 7027          00364617027\n",
      "2         089 833 6695           0898336695\n",
      "3   +62 (418) 329-4756          04183294756\n",
      "4           0812511835           0812511835\n",
      "5    +62 (11) 369-7082           0113697082\n",
      "6      (0244) 430 7220          02444307220\n",
      "7   +62 (056) 931-9059          00569319059\n",
      "8    +62 (11) 826-1289           0118261289\n",
      "9    +62 (86) 156 1327           0861561327\n",
      "10  +62 (004) 561 6831          00045616831\n",
      "11    +62-304-075-1010          03040751010\n",
      "12    +62-766-738-4901          07667384901\n",
      "13     +62-57-926-3059           0579263059\n",
      "14  +62 (447) 608 1087          04476081087\n",
      "15      (093) 063-0588           0930630588\n",
      "16  +62 (857) 263-5384          08572635384\n",
      "17  +62 (631) 363 8240          06313638240\n",
      "18    +62-783-529-5810          07835295810\n",
      "19        083 504 5393           0835045393\n"
     ]
    }
   ],
   "source": [
    "#Masukkan regex anda pada parameter pertama dari fungsi replace\n",
    "df_participant['cleaned_phone_number'] = df_participant['phone_number'].str.replace(r'^(\\+62|62)', '0')\n",
    "df_participant['cleaned_phone_number'] = df_participant['cleaned_phone_number'].str.replace(r'[()-]', '')\n",
    "df_participant['cleaned_phone_number'] = df_participant['cleaned_phone_number'].str.replace(r'\\s+', '')\n",
    "print(df_participant[['phone_number','cleaned_phone_number']].head(20))"
   ]
  },
  {
   "cell_type": "markdown",
   "metadata": {},
   "source": [
    "## Transform Bagian V - Nama Tim\n",
    "Dataset saat ini belum memuat nama tim, dan rupanya dari tim Data Analyst membutuhkan informasi terkait nama tim dari\n",
    "masing-masing peserta. Diketahui bahwa nama tim merupakan gabungan nilai dari kolom first_name, last_name, country dan\n",
    "institute.\n",
    "Tugas Anda yakni buatlah kolom baru dengan nama team_name yang memuat informasi nama tim dari peserta."
   ]
  },
  {
   "cell_type": "code",
   "execution_count": 172,
   "metadata": {},
   "outputs": [],
   "source": [
    "def func(col):\n",
    "    abbrev_name = \"%s%s\"%(col['first_name'][0],col['last_name'][0]) #Singkatan dari Nama Depan dan Nama Belakang dengan mengambil huruf pertama\n",
    "    country = col['country']\n",
    "    abbrev_institute = '%s'%(''.join(list(map(lambda x: x[0], col['institute'].split())))) #Singkatan dari value di kolom institute\n",
    "    return \"%s-%s-%s\"%(abbrev_name,country,abbrev_institute)\n",
    "\n",
    "df_participant['team_name'] = df_participant.apply(func, axis=1)"
   ]
  },
  {
   "cell_type": "code",
   "execution_count": 179,
   "metadata": {},
   "outputs": [],
   "source": [
    "def func(col):\n",
    "    abbrev_name = \"%s%s\"%(col['first_name'][0],col['last_name'][0]) #Singkatan dari Nama Depan dan Nama Belakang dengan mengambil huruf pertama\n",
    "    country = col['country']\n",
    "    abbrev_institute = '%s'%(''.join(list(map(lambda word: word[0], col['institute'].split())))) #Singkatan dari value di kolom institute\n",
    "    return \"%s-%s-%s\"%(abbrev_name,country,abbrev_institute)\n",
    "\n",
    "df_participant['team_name'] = df_participant.apply(func, axis=1)\n"
   ]
  },
  {
   "cell_type": "code",
   "execution_count": 180,
   "metadata": {},
   "outputs": [
    {
     "name": "stdout",
     "output_type": "stream",
     "text": [
      "0       CN-Georgia-UPM\n",
      "1    AS-Korea Utara-UD\n",
      "2        CH-Komoro-UHP\n",
      "3       SR-Eritrea-PTY\n",
      "4      VA-Aljazair-PHR\n",
      "Name: team_name, dtype: object\n"
     ]
    }
   ],
   "source": [
    "print(df_participant['team_name'].head())"
   ]
  },
  {
   "cell_type": "markdown",
   "metadata": {},
   "source": [
    "## Transform Bagian VI - Email\n",
    "Setelah dilihat kembali dari data peserta yang dimiliki, ternyata ada satu informasi yang penting namun belum tersedia, yaitu\n",
    "email. Anda sebagai Data Engineer diminta untuk menyediakan informasi email dari peserta dengan aturan bahwa format\n",
    "email sebagai berikut:\n",
    "```\n",
    "Format email:\n",
    "xxyy@aa.bb.[ac/com].[cc]\n",
    "\n",
    "Keterangan:\n",
    "xx -> nama depan (first_name) dalam lowercase\n",
    "yy -> nama belakang (last_name) dalam lowercase\n",
    "aa -> nama institusi\n",
    "\n",
    "Untuk nilai bb, dan cc mengikuti nilai dari aa. Aturannya:\n",
    "- Jika institusi nya merupakan Universitas, maka\n",
    "  bb -> gabungan dari huruf pertama pada setiap kata dari nama Universitas dalam lowercase\n",
    "  Kemudian, diikuti dengan .ac yang menandakan akademi/institusi belajar dan diikuti dengan pattern cc\n",
    "- Jika institusi bukan merupakan Universitas, maka\n",
    "  bb -> gabungan dari huruf pertama pada setiap kata dari nama Universitas dalam lowercase\n",
    "  Kemudian, diikuti dengan .com. Perlu diketahui bahwa pattern cc tidak berlaku pada kondisi ini\n",
    "\n",
    "cc -> merupakan negara asal peserta, adapun aturannya:\n",
    "- Jika banyaknya kata pada negara tersebut lebih dari 1 maka ambil singkatan dari negara tersebut dalam lowercase\n",
    "- Namun, jika banyaknya kata hanya 1 maka ambil 3 huruf terdepan dari negara tersebut dalam lowercase\n",
    "\n",
    "Contoh:\n",
    "  Nama depan: Citra\n",
    "  Nama belakang: Nurdiyanti\n",
    "  Institusi: UD Prakasa Mandasari\n",
    "  Negara: Georgia\n",
    "  Maka,Email nya: citranurdiyanti@upm.geo\n",
    "  -----------------------------------\n",
    "  Nama depan: Aris\n",
    "  Nama belakang: Setiawan\n",
    "  Institusi: Universitas Diponegoro\n",
    "  Negara: Korea Utara\n",
    "  Maka, Email nya: arissetiawan@ud.ac.ku\n",
    "```"
   ]
  },
  {
   "cell_type": "code",
   "execution_count": 188,
   "metadata": {},
   "outputs": [],
   "source": [
    "def func(col):\n",
    "    first_name_lower = col['first_name'].lower()\n",
    "    last_name_lower = col['last_name'].lower()\n",
    "    institute = ''.join(list(map(lambda word: word[0], col['institute'].lower().split()))) #Singkatan dari nama perusahaan dalam lowercase\n",
    "\n",
    "    if 'Universitas' in col['institute']:\n",
    "        if len(col['country'].split()) > 1: #Kondisi untuk mengecek apakah jumlah kata dari country lebih dari 1\n",
    "            country = ''.join(list(map(lambda word: word[0], col['country'].lower().split())))\n",
    "        else:\n",
    "            country = col['country'][:3].lower()\n",
    "        return \"%s%s@%s.ac.%s\"%(first_name_lower,last_name_lower,institute,country)\n",
    "\n",
    "    return \"%s%s@%s.com\"%(first_name_lower,last_name_lower,institute)\n",
    "\n",
    "df_participant['email'] = df_participant.apply(func, axis=1)"
   ]
  },
  {
   "cell_type": "code",
   "execution_count": 190,
   "metadata": {},
   "outputs": [
    {
     "data": {
      "text/plain": [
       "0        citranurdiyanti@upm.com\n",
       "1          arissetiawan@ud.ac.ku\n",
       "2      corneliahandayani@uhp.com\n",
       "3            solehrajasa@pty.com\n",
       "4             viviastuti@phr.com\n",
       "5    bahuraksamangunsong@cmh.com\n",
       "6           tiaramaryati@uiw.com\n",
       "7            dimazgunarto@pp.com\n",
       "8       zizipuspasari@ubs.ac.gam\n",
       "9         cecepharyanto@pppt.com\n",
       "Name: email, dtype: object"
      ]
     },
     "execution_count": 190,
     "metadata": {},
     "output_type": "execute_result"
    }
   ],
   "source": [
    "df_participant['email'].head(10)"
   ]
  },
  {
   "cell_type": "markdown",
   "metadata": {},
   "source": [
    "## Transform Bagian VII - Tanggal Lahir\n",
    "MySQL merupakan salah satu database yang sangat populer dan digunakan untuk menyimpan data berupa tabel, termasuk data hasil pengolahan yang sudah kita lakukan ini nantinya bisa dimasukkan ke MySQL. Meskipun begitu, ada suatu aturan dari MySQL terkait format tanggal yang bisa mereka terima yaitu YYYY-MM-DD dengan keterangan:\n",
    "\n",
    "* YYYY: 4 digit yang menandakan tahun\n",
    "* MM: 2 digit yang menandakan bulan\n",
    "* DD: 2 digit yang menandakan tanggal\n",
    "\n",
    "Contohnya yaitu: 2021-04-07\n",
    "\n",
    "Jika kita lihat kembali pada kolom tanggal lahir terlihat bahwa nilai nya belum sesuai dengan format DATE dari MySQL (Lihat lebih detail di: https://www.mysqltutorial.org/mysql-date/). Oleh karena itu, lakukanlah formatting terhadap kolom birth_date menjadi YYYY-MM-DD dan simpan di kolom yang sama."
   ]
  },
  {
   "cell_type": "code",
   "execution_count": 193,
   "metadata": {},
   "outputs": [],
   "source": [
    "df_participant['birth_date'] = pd.to_datetime(df_participant['birth_date'], format='%d %b %Y')"
   ]
  },
  {
   "cell_type": "code",
   "execution_count": 194,
   "metadata": {},
   "outputs": [
    {
     "name": "stdout",
     "output_type": "stream",
     "text": [
      "0   1991-02-05\n",
      "1   1993-01-11\n",
      "2   1993-07-31\n",
      "3   1991-11-04\n",
      "4   2003-01-22\n",
      "Name: birth_date, dtype: datetime64[ns]\n"
     ]
    }
   ],
   "source": [
    "print(df_participant['birth_date'].head())"
   ]
  },
  {
   "cell_type": "markdown",
   "metadata": {},
   "source": [
    "## Transform Bagian VII - Tanggal Daftar Kompetisi\n",
    "Selain punya aturan mengenai format DATE, MySQL juga memberi aturan pada data yang bertipe DATETIME yaitu YYYY-MM-DD HH:mm:ss dengan keterangan:\n",
    "\n",
    "* YYYY: 4 digit yang menandakan tahun\n",
    "* MM: 2 digit yang menandakan bulan\n",
    "* DD: 2 digit yang menandakan tanggal\n",
    "* HH: 2 digit yang menandakan jam\n",
    "* mm: 2 digit yang menandakan menit\n",
    "* ss: 2 digit yang menandakan detik\n",
    "\n",
    "_Contohnya yaitu: 2021-04-07 15:10:55_\n",
    "\n",
    "Karena data kita mengenai waktu registrasi peserta (register_time) belum sesuai format yang seharusnya, maka dari itu Tugas Anda yaitu untuk merubah register_time ke format DATETIME sesuai dengan aturan dari MySQL. Simpanlah hasil tersebut ke kolom register_at."
   ]
  },
  {
   "cell_type": "code",
   "execution_count": 208,
   "metadata": {},
   "outputs": [],
   "source": [
    "df_participant['register_at'] = pd.to_datetime(df_participant['register_time'], unit='s')"
   ]
  },
  {
   "cell_type": "code",
   "execution_count": 209,
   "metadata": {
    "scrolled": true
   },
   "outputs": [
    {
     "name": "stdout",
     "output_type": "stream",
     "text": [
      "0    1.620000e+09\n",
      "1    1.620000e+09\n",
      "2    1.620000e+09\n",
      "3    1.620000e+09\n",
      "4    1.620000e+09\n",
      "Name: register_time, dtype: float64\n"
     ]
    }
   ],
   "source": [
    "print(df_participant['register_time'].head())"
   ]
  },
  {
   "cell_type": "markdown",
   "metadata": {},
   "source": [
    "## Kesimpulan\n",
    "Dengan begitu, tibalah kita di penghujung dari modul bagian Transform ini. Jika dilihat kembali, dataset Anda saat ini sudah berbeda dengan saat proses extract sebelumnya. Ada beberapa kolom tambahan yang memanfaatkan nilai kolom lain. Dataset Anda saat ini memuat kolom:\n",
    "\n",
    "1. participant_id: ID dari peserta/partisipan hackathon. Kolom ini bersifat unique sehingga antar peserta pasti memiliki ID yang berbeda\n",
    "2. first_name: nama depan peserta\n",
    "3. last_name: nama belakang peserta\n",
    "4. birth_date: tanggal lahir peserta (sudah diformat ke YYYY-MM-DD)\n",
    "5. address: alamat tempat tinggal peserta\n",
    "6. phone_number: nomor hp/telfon peserta\n",
    "7. country: negara asal peserta\n",
    "8. institute: institusi peserta saat ini, bisa berupa nama perusahaan maupun nama universitas\n",
    "9. occupation: pekerjaan peserta saat ini\n",
    "10. register_time: waktu peserta melakukan pendaftaran hackathon dalam second\n",
    "11. team_name: nama tim peserta (gabungan dari nama depan, nama belakang, negara dan institusi)\n",
    "12. postal_code: kode pos alamat peserta (diambil dari kolom alamat)\n",
    "13. city: kota peserta (diambil dari kolom alamat)\n",
    "14. github_profile: link profil github peserta (gabungan dari nama depan, dan nama belakang)\n",
    "15. email: alamat email peserta (gabungan dari nama depan, nama belakang, institusi dan negara)\n",
    "16. cleaned_phone_number: nomor hp/telfon peserta (sudah lebih sesuai dengan format nomor telfon)\n",
    "17. register_at: tanggal dan waktu peserta melakukan pendaftaran (sudah dalam format DATETIME)"
   ]
  },
  {
   "cell_type": "markdown",
   "metadata": {},
   "source": [
    "## Load\n",
    "Pada bagian load ini, data yang sudah ditransformasi sedemikian rupa sehingga sesuai dengan kebutuhan tim Analyst dimasukkan kembali ke database yaitu Data Warehouse DWH. Biasanya, dilakukan pendefinisian skema database terlebih dahulu seperti:\n",
    "\n",
    "1. Nama kolom\n",
    "2. Tipe kolom\n",
    "3. Apakah primary key, unique key, index atau bukan\n",
    "4. Panjang kolomnya\n",
    "\n",
    "Karena umumnya Data Warehouse merupakan database yang terstruktur sehingga mereka memerlukan skema sebelum data nya dimasukkan.\n",
    "\n",
    "Pandas sudah menyediakan fungsi untuk memasukkan data ke database yaitu to_sql() . Detail dari fungsi tersebut bisa dilihat pada dokumentasi Pandas: https://pandas.pydata.org/docs/reference/api/pandas.DataFrame.to_sql.html"
   ]
  }
 ],
 "metadata": {
  "kernelspec": {
   "display_name": "Python 3",
   "language": "python",
   "name": "python3"
  },
  "language_info": {
   "codemirror_mode": {
    "name": "ipython",
    "version": 3
   },
   "file_extension": ".py",
   "mimetype": "text/x-python",
   "name": "python",
   "nbconvert_exporter": "python",
   "pygments_lexer": "ipython3",
   "version": "3.8.5"
  }
 },
 "nbformat": 4,
 "nbformat_minor": 4
}
